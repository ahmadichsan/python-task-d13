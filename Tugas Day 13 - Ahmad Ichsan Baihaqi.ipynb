{
 "cells": [
  {
   "cell_type": "markdown",
   "id": "2c5445ff",
   "metadata": {},
   "source": [
    "**Homework Day 13 - Data Manipulation with Python**\n",
    "\n",
    "**Author: Ahmad Ichsan Baihaqi**\n",
    "\n",
    "**Email: ahmadichsanbaihaqi@gmail.com**"
   ]
  },
  {
   "cell_type": "code",
   "execution_count": null,
   "id": "41956e14",
   "metadata": {},
   "outputs": [],
   "source": []
  }
 ],
 "metadata": {
  "kernelspec": {
   "display_name": "Python 3",
   "language": "python",
   "name": "python3"
  },
  "language_info": {
   "codemirror_mode": {
    "name": "ipython",
    "version": 3
   },
   "file_extension": ".py",
   "mimetype": "text/x-python",
   "name": "python",
   "nbconvert_exporter": "python",
   "pygments_lexer": "ipython3",
   "version": "3.8.8"
  }
 },
 "nbformat": 4,
 "nbformat_minor": 5
}
